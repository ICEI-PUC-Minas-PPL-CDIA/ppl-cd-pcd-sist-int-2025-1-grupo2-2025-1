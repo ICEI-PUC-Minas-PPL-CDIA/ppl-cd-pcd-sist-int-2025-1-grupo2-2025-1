{
  "nbformat": 4,
  "nbformat_minor": 0,
  "metadata": {
    "colab": {
      "provenance": []
    },
    "kernelspec": {
      "name": "python3",
      "display_name": "Python 3"
    },
    "language_info": {
      "name": "python"
    }
  },
  "cells": [
    {
      "cell_type": "code",
      "execution_count": 1,
      "metadata": {
        "colab": {
          "base_uri": "https://localhost:8080/"
        },
        "id": "cv97vdsXMalX",
        "outputId": "391e4c71-c582-4123-9fc9-97349d494b41"
      },
      "outputs": [
        {
          "output_type": "stream",
          "name": "stdout",
          "text": [
            "\n",
            "Status final do dataset:\n",
            "- Total de registros originais: 5293\n",
            "- Registros após filtragem e limpeza: 4746\n",
            "- Colunas mantidas: 36\n",
            "- Principais alterações:\n",
            "  • Removidas 181 duplicatas\n",
            "  • Removidas 366 registros com dados críticos faltantes\n",
            "\n",
            "Arquivo limpo salvo como: survey_cleaned.csv\n"
          ]
        }
      ],
      "source": [
        "import pandas as pd\n",
        "\n",
        "# Configuração para melhor visualização do DataFrame\n",
        "pd.set_option('display.max_columns', None)\n",
        "\n",
        "# Caminhos dos arquivos\n",
        "input_file = 'State_of_data_BR_2023_Kaggle - df_survey_2023.csv'\n",
        "output_file = 'survey_cleaned.csv'\n",
        "\n",
        "# Mapeamento correto das colunas com base no cabeçalho real do CSV\n",
        "colunas_relevantes = [\n",
        "    \"('P1_l ', 'Nivel de Ensino')\",               # Nível de ensino\n",
        "    \"('P1_m ', 'Área de Formação')\",              # Área de formação\n",
        "    \"('P2_h ', 'Faixa salarial')\",                # Faixa salarial\n",
        "    \"('P2_i ', 'Quanto tempo de experiência na área de dados você tem?')\",  # Experiência em dados\n",
        "    \"('P2_g ', 'Nivel')\",                         # Nível de senioridade\n",
        "    \"('P4_d_1 ', 'SQL')\",                         # SQL\n",
        "    \"('P4_d_2 ', 'R ')\",                          # R\n",
        "    \"('P4_d_3 ', 'Python')\",                      # Python\n",
        "    \"('P4_d_4 ', 'C/C++/C#')\",                    # C/C++/C#\n",
        "    \"('P4_d_5 ', '.NET')\",                        # .NET\n",
        "    \"('P4_d_6 ', 'Java')\",                        # Java\n",
        "    \"('P4_d_7 ', 'Julia')\",                       # Julia\n",
        "    \"('P4_d_8 ', 'SAS/Stata')\",                   # SAS/Stata\n",
        "    \"('P4_d_9 ', 'Visual Basic/VBA')\",            # Visual Basic/VBA\n",
        "    \"('P4_d_10 ', 'Scala')\",                      # Scala\n",
        "    \"('P4_d_11 ', 'Matlab')\",                     # Matlab\n",
        "    \"('P4_d_12 ', 'Rust')\",                       # Rust\n",
        "    \"('P4_d_13 ', 'PHP')\",                        # PHP\n",
        "    \"('P4_d_14 ', 'JavaScript')\",                 # JavaScript\n",
        "    \"('P4_d_15 ', 'Não utilizo nenhuma linguagem')\", # Sem linguagem\n",
        "    \"('P1_b ', 'Genero')\",                        # Gênero\n",
        "    \"('P1_c ', 'Cor/raca/etnia')\",                # Cor/Raça/Etnia\n",
        "    \"('P2_b ', 'Setor')\",                         # Setor da empresa\n",
        "    \"('P1_i_1 ', 'uf onde mora')\",                # UF de residência\n",
        "    \"('P2_f ', 'Cargo Atual')\",                   # Cargo atual\n",
        "    \"('P4_e ', 'Entre as linguagens listadas abaixo, qual é a que você mais utiliza no trabalho?')\", # Linguagem principal\n",
        "    \"('P2_o_1 ', 'Remuneração/Salário')\",         # Critério salário\n",
        "    \"('P2_o_2 ', 'Benefícios')\",                  # Critério benefícios\n",
        "    \"('P2_o_3 ', 'Propósito do trabalho e da empresa')\", # Critério propósito\n",
        "    \"('P2_o_4 ', 'Flexibilidade de trabalho remoto')\", # Critério remoto\n",
        "    \"('P2_o_5 ', 'Ambiente e clima de trabalho')\", # Critério ambiente\n",
        "    \"('P2_o_6 ', 'Oportunidade de aprendizado e trabalhar com referências na área')\", # Critério aprendizado\n",
        "    \"('P2_o_7 ', 'Plano de carreira e oportunidades de crescimento profissional')\", # Critério carreira\n",
        "    \"('P2_o_8 ', 'Maturidade da empresa em termos de tecnologia e dados')\", # Critério maturidade\n",
        "    \"('P2_o_9 ', 'Qualidade dos gestores e líderes')\", # Critério gestores\n",
        "    \"('P2_o_10 ', 'Reputação que a empresa tem no mercado')\" # Critério reputação\n",
        "]\n",
        "\n",
        "# Leitura do arquivo com tratamento de encoding e caracteres especiais\n",
        "df = pd.read_csv(input_file, engine='python', encoding='utf-8')\n",
        "\n",
        "# Verificação de colunas ausentes\n",
        "colunas_faltantes = [col for col in colunas_relevantes if col not in df.columns]\n",
        "if colunas_faltantes:\n",
        "    print(f'Atenção: Colunas faltantes no dataset: {colunas_faltantes}')\n",
        "\n",
        "# Filtragem das colunas relevantes\n",
        "df_filtrado = df[colunas_relevantes].copy()\n",
        "\n",
        "# Limpeza de dados\n",
        "# 1. Remoção de duplicatas exatas\n",
        "df_filtrado = df_filtrado.drop_duplicates()\n",
        "\n",
        "# 2. Tratamento de valores nulos (apenas em colunas críticas)\n",
        "colunas_criticas = [\n",
        "    \"('P2_h ', 'Faixa salarial')\",\n",
        "    \"('P2_i ', 'Quanto tempo de experiência na área de dados você tem?')\",\n",
        "    \"('P2_g ', 'Nivel')\"\n",
        "]\n",
        "\n",
        "# Remover linhas onde todas as colunas críticas estão nulas\n",
        "df_limpo = df_filtrado.dropna(subset=colunas_criticas, how='all')\n",
        "\n",
        "# 3. Resetar índice após limpeza\n",
        "df_limpo.reset_index(drop=True, inplace=True)\n",
        "\n",
        "# Salvando resultados\n",
        "df_limpo.to_csv(output_file, index=False)\n",
        "\n",
        "# Relatório final\n",
        "print(f'\\nStatus final do dataset:')\n",
        "print(f'- Total de registros originais: {len(df)}')\n",
        "print(f'- Registros após filtragem e limpeza: {len(df_limpo)}')\n",
        "print(f'- Colunas mantidas: {len(colunas_relevantes)}')\n",
        "print(f'- Principais alterações:')\n",
        "print(f'  • Removidas {len(df) - len(df_filtrado)} duplicatas')\n",
        "print(f'  • Removidas {len(df_filtrado) - len(df_limpo)} registros com dados críticos faltantes')\n",
        "print(f'\\nArquivo limpo salvo como: {output_file}')"
      ]
    }
  ]
}
