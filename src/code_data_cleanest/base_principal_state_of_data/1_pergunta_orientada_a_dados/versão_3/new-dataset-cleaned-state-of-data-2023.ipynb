{
 "cells": [
  {
   "cell_type": "code",
   "execution_count": 1,
   "id": "e3c8d3a6",
   "metadata": {
    "_cell_guid": "b1076dfc-b9ad-4769-8c92-a6c4dae69d19",
    "_uuid": "8f2839f25d086af736a60e9eeb907d3b93b6e0e5",
    "execution": {
     "iopub.execute_input": "2025-05-06T19:29:57.507977Z",
     "iopub.status.busy": "2025-05-06T19:29:57.507666Z",
     "iopub.status.idle": "2025-05-06T19:30:00.559045Z",
     "shell.execute_reply": "2025-05-06T19:30:00.557366Z"
    },
    "papermill": {
     "duration": 3.057347,
     "end_time": "2025-05-06T19:30:00.561028",
     "exception": false,
     "start_time": "2025-05-06T19:29:57.503681",
     "status": "completed"
    },
    "tags": []
   },
   "outputs": [
    {
     "name": "stdout",
     "output_type": "stream",
     "text": [
      "Arquivo 'dados_limpos.csv' gerado com sucesso!\n"
     ]
    },
    {
     "name": "stderr",
     "output_type": "stream",
     "text": [
      "/usr/local/lib/python3.11/dist-packages/pandas/core/computation/expressions.py:73: RuntimeWarning: invalid value encountered in greater_equal\n",
      "  return op(a, b)\n",
      "/usr/local/lib/python3.11/dist-packages/pandas/core/computation/expressions.py:73: RuntimeWarning: invalid value encountered in less_equal\n",
      "  return op(a, b)\n"
     ]
    }
   ],
   "source": [
    "# Importar bibliotecas necessárias\n",
    "import pandas as pd\n",
    "import numpy as np\n",
    "\n",
    "# 1. Carregar o arquivo CSV\n",
    "df = pd.read_csv('/kaggle/input/state-of-data-brazil-2023/State_of_data_BR_2023_Kaggle - df_survey_2023.csv')\n",
    "\n",
    "# 2. Renomear colunas para os nomes simplificados\n",
    "colunas_renomeadas = {\n",
    "    \"('P0', 'id')\": \"id\",\n",
    "    \"('P1_l ', 'Nivel de Ensino')\": \"Nível de ensino alcançado\",\n",
    "    \"('P1_m ', 'Área de Formação')\": \"Área de formação acadêmica\",\n",
    "    \"('P2_h ', 'Faixa salarial')\": \"Faixa salarial mensal\",\n",
    "    \"('P2_i ', 'Quanto tempo de experiência na área de dados você tem?')\": \"Tempo de experiência na área de dados\",\n",
    "    \"('P2_g ', 'Nivel')\": \"Nível de senioridade\",\n",
    "    \"('P1_b ', 'Genero')\": \"Gênero do profissional\",\n",
    "    \"('P1_c ', 'Cor/raca/etnia')\": \"Cor/Raça/Etnia\",\n",
    "    \"('P2_b ', 'Setor')\": \"Setor de atuação da empresa\",\n",
    "    \"('P1_i_1 ', 'uf onde mora')\": \"UF onde mora\",\n",
    "    \"('P2_f ', 'Cargo Atual')\": \"Cargo atual\",\n",
    "    \"('P2_o_6 ', 'Oportunidade de aprendizado e trabalhar com referências na área')\": \"Oportunidade de aprendizado\",\n",
    "    \"('P2_o_10 ', 'Reputação que a empresa tem no mercado')\": \"Reputação da empresa\"\n",
    "}\n",
    "\n",
    "# Renomear colunas e selecionar apenas as desejadas\n",
    "df_clean = df.rename(columns=colunas_renomeadas)[colunas_renomeadas.values()]\n",
    "\n",
    "# 3. Remover linhas com dados faltantes\n",
    "df_clean = df_clean.dropna()\n",
    "\n",
    "# 4. Remover outliers (aplicado apenas em colunas numéricas)\n",
    "# Identificar colunas numéricas (exemplo: Tempo de experiência)\n",
    "if df_clean[\"Tempo de experiência na área de dados\"].dtype == 'object':\n",
    "    # Converter para numérico (supondo formato como \"de 3 a 4 anos\")\n",
    "    df_clean[\"Tempo_exp_num\"] = (\n",
    "        df_clean[\"Tempo de experiência na área de dados\"]\n",
    "        .str.extract(r'(\\d+)').astype(float)  # Extrair o primeiro número\n",
    "    )\n",
    "    \n",
    "    # Calcular limites para outliers usando IQR\n",
    "    Q1 = df_clean[\"Tempo_exp_num\"].quantile(0.25)\n",
    "    Q3 = df_clean[\"Tempo_exp_num\"].quantile(0.75)\n",
    "    IQR = Q3 - Q1\n",
    "    lim_inf = Q1 - 1.5 * IQR\n",
    "    lim_sup = Q3 + 1.5 * IQR\n",
    "    \n",
    "    # Filtrar dados dentro dos limites\n",
    "    df_clean = df_clean[\n",
    "        (df_clean[\"Tempo_exp_num\"] >= lim_inf) &\n",
    "        (df_clean[\"Tempo_exp_num\"] <= lim_sup)\n",
    "    ].drop(columns=\"Tempo_exp_num\")\n",
    "\n",
    "# 5. Salvar o novo arquivo CSV\n",
    "df_clean.to_csv('dados_limpos.csv', index=False)\n",
    "\n",
    "print(\"Arquivo 'dados_limpos.csv' gerado com sucesso!\")"
   ]
  }
 ],
 "metadata": {
  "kaggle": {
   "accelerator": "none",
   "dataSources": [
    {
     "datasetId": 5242826,
     "sourceId": 8734113,
     "sourceType": "datasetVersion"
    }
   ],
   "dockerImageVersionId": 31012,
   "isGpuEnabled": false,
   "isInternetEnabled": true,
   "language": "python",
   "sourceType": "notebook"
  },
  "kernelspec": {
   "display_name": "Python 3",
   "language": "python",
   "name": "python3"
  },
  "language_info": {
   "codemirror_mode": {
    "name": "ipython",
    "version": 3
   },
   "file_extension": ".py",
   "mimetype": "text/x-python",
   "name": "python",
   "nbconvert_exporter": "python",
   "pygments_lexer": "ipython3",
   "version": "3.11.11"
  },
  "papermill": {
   "default_parameters": {},
   "duration": 8.906982,
   "end_time": "2025-05-06T19:30:01.185402",
   "environment_variables": {},
   "exception": null,
   "input_path": "__notebook__.ipynb",
   "output_path": "__notebook__.ipynb",
   "parameters": {},
   "start_time": "2025-05-06T19:29:52.278420",
   "version": "2.6.0"
  }
 },
 "nbformat": 4,
 "nbformat_minor": 5
}
